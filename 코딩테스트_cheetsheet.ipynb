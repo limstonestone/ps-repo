{
 "cells": [
  {
   "cell_type": "markdown",
   "metadata": {},
   "source": [
    "# 기초 개념"
   ]
  },
  {
   "cell_type": "markdown",
   "metadata": {},
   "source": [
    "### 시간복잡도\n",
    "\n",
    "- N 의 범위가 오백 -> $O(N^3)$\n",
    "- N 의 범위가 이천 -> $O(N^2)$\n",
    "- N 의 범위가 십만 -> $O(NlogN)$\n",
    "- N 의 범위가 천만 -> $O(N)$"
   ]
  },
  {
   "cell_type": "markdown",
   "metadata": {},
   "source": [
    "### 문자열 아스키코드, 대소 문자"
   ]
  },
  {
   "cell_type": "code",
   "execution_count": 49,
   "metadata": {},
   "outputs": [
    {
     "name": "stdout",
     "output_type": "stream",
     "text": [
      "abcdefghijklmnopqrstuvwxyz\n",
      "ABCDEFGHIJKLMNOPQRSTUVWXYZ\n",
      "abcdefghijklmnopqrstuvwxyzABCDEFGHIJKLMNOPQRSTUVWXYZ\n",
      "0123456789\n",
      "False\n",
      "True\n"
     ]
    }
   ],
   "source": [
    "import string\n",
    "print(string.ascii_lowercase) # 소문자 abcd ...\n",
    "print(string.ascii_uppercase) # 대문자 ABCD ...\n",
    "print(string.ascii_letters) # 대소문자 모두 abcd...ABCD...\n",
    "print(string.digits) # 숫자 0123...\n",
    "\n",
    "# str method tip\n",
    "print(str.isupper('a'))\n",
    "print(str.islower('a'))"
   ]
  },
  {
   "cell_type": "markdown",
   "metadata": {},
   "source": [
    "### ZIP 활용, 2차원 배열"
   ]
  },
  {
   "cell_type": "code",
   "execution_count": 50,
   "metadata": {},
   "outputs": [
    {
     "name": "stdout",
     "output_type": "stream",
     "text": [
      "[[1, 4, 7], [2, 5, 8], [3, 6, 9]]\n",
      "{'cat': 'meow', 'dog': 'woof', 'lion': 'roar'}\n"
     ]
    }
   ],
   "source": [
    "my_list = [[1,2,3], [4,5,6], [7,8,9]]\n",
    "\n",
    "print(list(map(list, zip(*my_list))))\n",
    "\n",
    "# zip 으로 list 2개 각 key:value 만들기\n",
    "animals = ['cat', 'dog', 'lion']\n",
    "sounds = ['meow', 'woof', 'roar']\n",
    "print(dict(zip(animals, sounds)))"
   ]
  },
  {
   "cell_type": "markdown",
   "metadata": {},
   "source": [
    "### map 활용"
   ]
  },
  {
   "cell_type": "code",
   "execution_count": 51,
   "metadata": {},
   "outputs": [
    {
     "name": "stdout",
     "output_type": "stream",
     "text": [
      "[1, 100, 33]\n"
     ]
    }
   ],
   "source": [
    "list1 = ['1', '100', '33']\n",
    "print(list(map(int, list1)))"
   ]
  },
  {
   "cell_type": "markdown",
   "metadata": {},
   "source": [
    "### list 에서 문자 등장 개수 count"
   ]
  },
  {
   "cell_type": "code",
   "execution_count": 52,
   "metadata": {},
   "outputs": [
    {
     "name": "stdout",
     "output_type": "stream",
     "text": [
      "Counter({3: 3, 1: 2, 2: 2, 5: 2, 7: 2, 4: 1, 6: 1, 8: 1, 9: 1})\n"
     ]
    }
   ],
   "source": [
    "import collections\n",
    "my_list = [1, 2, 3, 4, 5, 6, 7, 8, 7, 9, 1, 2, 3, 3, 5]\n",
    "print(collections.Counter(my_list))"
   ]
  },
  {
   "cell_type": "markdown",
   "metadata": {},
   "source": [
    "### 진수 변환기"
   ]
  },
  {
   "cell_type": "code",
   "execution_count": 53,
   "metadata": {},
   "outputs": [
    {
     "name": "stdout",
     "output_type": "stream",
     "text": [
      "101\n",
      "5\n"
     ]
    }
   ],
   "source": [
    "# 10진수 -> N진수\n",
    "tmp = string.digits + string.ascii_lowercase\n",
    "def convert(num, base):\n",
    "    q, r = divmod(num, base)\n",
    "    if q == 0:\n",
    "        return tmp[r] \n",
    "    else:\n",
    "        return convert(q, base) + tmp[r]\n",
    "    \n",
    "print(convert(5, 2))\n",
    "\n",
    "# N진수 -> 10진수\n",
    "print(int('101', base=2))"
   ]
  },
  {
   "cell_type": "markdown",
   "metadata": {},
   "source": [
    "### 소수 판별"
   ]
  },
  {
   "cell_type": "code",
   "execution_count": 54,
   "metadata": {},
   "outputs": [
    {
     "name": "stdout",
     "output_type": "stream",
     "text": [
      "True\n",
      "False\n"
     ]
    }
   ],
   "source": [
    "def is_prime_number(x):\n",
    "    for i in range(2, int(x**(1/2)) + 1):\n",
    "        if x % i ==0:\n",
    "            return False\n",
    "    return True\n",
    "\n",
    "print(is_prime_number(2))\n",
    "print(is_prime_number(4))"
   ]
  },
  {
   "cell_type": "markdown",
   "metadata": {},
   "source": [
    "### 순열과 조합"
   ]
  },
  {
   "cell_type": "code",
   "execution_count": 55,
   "metadata": {},
   "outputs": [
    {
     "name": "stdout",
     "output_type": "stream",
     "text": [
      "[('1', '2'), ('1', '3'), ('2', '1'), ('2', '3'), ('3', '1'), ('3', '2')]\n",
      "[('1', '2'), ('1', '3'), ('2', '3')]\n",
      "[('a', 1, '!'), ('a', 1, '@'), ('a', 2, '!'), ('a', 2, '@'), ('b', 1, '!'), ('b', 1, '@'), ('b', 2, '!'), ('b', 2, '@')]\n"
     ]
    }
   ],
   "source": [
    "items = ['1', '2', '3']\n",
    "\n",
    "from itertools import permutations\n",
    "print(list(permutations(items, 2)))\n",
    "\n",
    "from itertools import combinations\n",
    "print(list(combinations(items, 2)))\n",
    "\n",
    "# 두 개 이상의 리스트에서 모든 조합\n",
    "from itertools import product\n",
    "items = [['a', 'b'], [1,2], ['!','@']]\n",
    "print(list(product(*items)))"
   ]
  },
  {
   "cell_type": "markdown",
   "metadata": {},
   "source": [
    "### 최대공약수, 최소공배수"
   ]
  },
  {
   "cell_type": "code",
   "execution_count": 56,
   "metadata": {},
   "outputs": [
    {
     "name": "stdout",
     "output_type": "stream",
     "text": [
      "5\n",
      "30\n",
      "30\n"
     ]
    }
   ],
   "source": [
    "import math\n",
    "a, b = 10, 15\n",
    "\n",
    "# 최대공약수(gcd)\n",
    "print(math.gcd(a, b))\n",
    "\n",
    "# 최소공배수(lcm)\n",
    "def lcm(a, b):\n",
    "    return int(a * b / math.gcd(a, b))\n",
    "\n",
    "print(lcm(a, b))\n",
    "print(math.lcm(a, b)) # python 3.9 이상"
   ]
  },
  {
   "cell_type": "markdown",
   "metadata": {},
   "source": [
    "### 피보나치 DP"
   ]
  },
  {
   "cell_type": "code",
   "execution_count": 57,
   "metadata": {},
   "outputs": [
    {
     "name": "stdout",
     "output_type": "stream",
     "text": [
      "3\n"
     ]
    }
   ],
   "source": [
    "def solution(n):\n",
    "    dp = [0] * (100_000 + 1) # DP 테이블\n",
    "    dp[0] = 0\n",
    "    dp[1] = 1\n",
    "\n",
    "    for i in range(2, n + 1):\n",
    "        dp[i] = dp[i - 2] + dp[i-1]\n",
    "\n",
    "    return dp[n] % 1234567\n",
    "\n",
    "print(solution(4)) # 1, 1, 2, 3"
   ]
  },
  {
   "cell_type": "markdown",
   "metadata": {},
   "source": [
    "### 1로 만들기 DP (5,3,2 로 나누어 1로 만드는 최소 연산 수)"
   ]
  },
  {
   "cell_type": "code",
   "execution_count": 58,
   "metadata": {},
   "outputs": [
    {
     "name": "stdout",
     "output_type": "stream",
     "text": [
      "2\n"
     ]
    }
   ],
   "source": [
    "def solution(n):\n",
    "    d = [0] * (100_000 + 1)\n",
    "    for i in range(2, n + 1):\n",
    "        d[i] = d[i - 1] + 1\n",
    "        if i % 2 == 0:\n",
    "            d[i] = min(d[i], d[i // 2] + 1)\n",
    "        if i % 3 == 0:\n",
    "            d[i] = min(d[i], d[i // 3] + 1)\n",
    "        if i % 5 == 0:\n",
    "            d[i] = min(d[i], d[i // 5] + 1)\n",
    "    \n",
    "    return d[n]\n",
    "\n",
    "print(solution(10))"
   ]
  },
  {
   "cell_type": "markdown",
   "metadata": {},
   "source": [
    "### DFS/BFS"
   ]
  },
  {
   "cell_type": "code",
   "execution_count": 59,
   "metadata": {},
   "outputs": [],
   "source": [
    "# 각 노드가 연결된 정보를 리스트 자료형으로 표현(2차원 리스트)\n",
    "graph = [\n",
    "  [],\n",
    "  [2, 3, 8],\n",
    "  [1, 7],\n",
    "  [1, 4, 5],\n",
    "  [3, 5],\n",
    "  [3, 4],\n",
    "  [7],\n",
    "  [2, 6, 8],\n",
    "  [1, 7]\n",
    "]"
   ]
  },
  {
   "cell_type": "code",
   "execution_count": 60,
   "metadata": {},
   "outputs": [],
   "source": [
    "# 인접 행렬을 사용한 그래프 생성\n",
    "def create_graph_adjacency_matrix(vertices, edges):\n",
    "    graph = [[0] * vertices for _ in range(vertices)]\n",
    "    for edge in edges:\n",
    "        start, end = edge\n",
    "        graph[start][end] = 1  # 방향 그래프일 경우 1, 무방향 그래프일 경우 1 또는 0\n",
    "        # 무방향 그래프의 경우 반대 방향도 연결해야 합니다.\n",
    "        graph[end][start] = 1\n",
    "    return graph"
   ]
  },
  {
   "cell_type": "code",
   "execution_count": 61,
   "metadata": {},
   "outputs": [],
   "source": [
    "# 인접 리스트를 사용한 그래프 생성\n",
    "from collections import defaultdict\n",
    "\n",
    "def create_graph_adjacency_list(vertices, edges):\n",
    "    graph = defaultdict(list)\n",
    "    for edge in edges:\n",
    "        start, end = edge\n",
    "        graph[start].append(end)\n",
    "        # 무방향 그래프의 경우 반대 방향도 연결해야 합니다.\n",
    "        graph[end].append(start)\n",
    "    return graph"
   ]
  },
  {
   "cell_type": "code",
   "execution_count": 62,
   "metadata": {},
   "outputs": [
    {
     "name": "stdout",
     "output_type": "stream",
     "text": [
      "Adjacency Matrix:\n",
      "[0, 1, 1, 0, 0, 0]\n",
      "[1, 0, 0, 1, 1, 0]\n",
      "[1, 0, 0, 0, 1, 0]\n",
      "[0, 1, 0, 0, 0, 1]\n",
      "[0, 1, 1, 0, 0, 1]\n",
      "[0, 0, 0, 1, 1, 0]\n",
      "\n",
      "Adjacency List:\n",
      "0: [1, 2]\n",
      "1: [0, 3, 4]\n",
      "2: [0, 4]\n",
      "3: [1, 5]\n",
      "4: [1, 2, 5]\n",
      "5: [3, 4]\n"
     ]
    }
   ],
   "source": [
    "# 예제 입력\n",
    "vertices = 6\n",
    "edges = [(0, 1), (0, 2), (1, 3), (1, 4), (2, 4), (3, 5), (4, 5)]\n",
    "\n",
    "# 인접 행렬을 사용한 그래프 생성\n",
    "adjacency_matrix = create_graph_adjacency_matrix(vertices, edges)\n",
    "print(\"Adjacency Matrix:\")\n",
    "for row in adjacency_matrix:\n",
    "    print(row)\n",
    "\n",
    "# 인접 리스트를 사용한 그래프 생성\n",
    "adjacency_list = create_graph_adjacency_list(vertices, edges)\n",
    "print(\"\\nAdjacency List:\")\n",
    "for key, value in adjacency_list.items():\n",
    "    print(f\"{key}: {value}\")\n"
   ]
  },
  {
   "cell_type": "code",
   "execution_count": 63,
   "metadata": {},
   "outputs": [
    {
     "name": "stdout",
     "output_type": "stream",
     "text": [
      "1 2 3 8 7 4 5 6 "
     ]
    }
   ],
   "source": [
    "### BFS : 큐\n",
    "\n",
    "from collections import deque\n",
    "\n",
    "def bfs(graph, start): # start -> 시작 노드의 index\n",
    "    visited = [False] * len(graph)\n",
    "\n",
    "    queue = deque([start])\n",
    "    visited[start] = True\n",
    "    \n",
    "    while queue:\n",
    "        node = queue.popleft()\n",
    "        print(node, end=' ')\n",
    "        \n",
    "        for i in graph[node]:\n",
    "            if not visited[i]:\n",
    "                queue.append(i)\n",
    "                visited[i] = True\n",
    "\n",
    "bfs(graph, 1)"
   ]
  },
  {
   "cell_type": "code",
   "execution_count": 64,
   "metadata": {},
   "outputs": [
    {
     "name": "stdout",
     "output_type": "stream",
     "text": [
      "1 8 7 6 3 5 4 2 "
     ]
    }
   ],
   "source": [
    "### DFS : 스택\n",
    "\n",
    "from collections import deque\n",
    "\n",
    "def dfs(graph, start): # start -> 시작 노드의 index\n",
    "    visited = [False] * len(graph)\n",
    "    stack = deque([start])\n",
    "    visited[start] = True\n",
    "    \n",
    "    while stack:\n",
    "        node = stack.pop()\n",
    "        print(node, end=' ')\n",
    "        \n",
    "        for i in graph[node]:\n",
    "            if not visited[i]:\n",
    "                stack.append(i)\n",
    "                visited[i] = True\n",
    "\n",
    "dfs(graph, 1)"
   ]
  },
  {
   "cell_type": "code",
   "execution_count": 65,
   "metadata": {},
   "outputs": [
    {
     "name": "stdout",
     "output_type": "stream",
     "text": [
      "1 2 7 6 8 3 4 5 "
     ]
    }
   ],
   "source": [
    "### DFS : 재귀\n",
    "\n",
    "recursive_visited = [False] * len(graph)\n",
    "\n",
    "def dfs_recursive(graph, start, visited): # start -> 시작 노드의 index\n",
    "    visited[start] = True\n",
    "    print(start, end=' ')\n",
    "    \n",
    "    for i in graph[start]:\n",
    "        if not visited[i]:\n",
    "            dfs_recursive(graph, i, visited)\n",
    "\n",
    "dfs_recursive(graph, 1, recursive_visited)"
   ]
  },
  {
   "cell_type": "markdown",
   "metadata": {},
   "source": [
    "### 이진 탐색"
   ]
  },
  {
   "cell_type": "code",
   "execution_count": 66,
   "metadata": {},
   "outputs": [
    {
     "name": "stdout",
     "output_type": "stream",
     "text": [
      "5\n"
     ]
    }
   ],
   "source": [
    "### 이진 탐색 (재귀)\n",
    "\n",
    "def binary_search(arr, target, start, end):\n",
    "    if start > end:\n",
    "        return -1\n",
    "    \n",
    "    mid = (start + end) // 2\n",
    "    if arr[mid] > target:\n",
    "        return binary_search(arr, target, start, mid - 1)\n",
    "    if arr[mid] == target:\n",
    "        return mid\n",
    "    if arr[mid] < target:\n",
    "        return binary_search(arr, target, mid + 1, end)\n",
    "\n",
    "arr = sorted([x for x in range(10)])\n",
    "start, end = 0, len(arr) -1\n",
    "print(binary_search(arr, 5, start, end))"
   ]
  },
  {
   "cell_type": "code",
   "execution_count": 67,
   "metadata": {},
   "outputs": [
    {
     "name": "stdout",
     "output_type": "stream",
     "text": [
      "5\n"
     ]
    }
   ],
   "source": [
    "### 이진 탐색 (반복문)\n",
    "\n",
    "def binary_search(arr, target, start, end):\n",
    "    while start <= end:\n",
    "        mid = (start + end)//2\n",
    "        if arr[mid] == target:\n",
    "            return mid\n",
    "        elif arr[mid] > target:\n",
    "            end = mid - 1\n",
    "        else:\n",
    "            start = mid + 1\n",
    "    return -1\n",
    "\n",
    "arr = sorted([x for x in range(10)])\n",
    "start, end = 0, len(arr) -1\n",
    "print(binary_search(arr, 5, start, end))"
   ]
  },
  {
   "cell_type": "markdown",
   "metadata": {},
   "source": [
    "### 힙"
   ]
  },
  {
   "cell_type": "code",
   "execution_count": 68,
   "metadata": {},
   "outputs": [
    {
     "name": "stdout",
     "output_type": "stream",
     "text": [
      "[10, 50]\n",
      "[10, 50, 30]\n",
      "10\n",
      "[30, 50]\n",
      "50\n"
     ]
    }
   ],
   "source": [
    "import heapq\n",
    "\n",
    "heap = []\n",
    "heapq.heappush(heap, 50)\n",
    "heapq.heappush(heap, 10)\n",
    "\n",
    "print(heap)\n",
    "\n",
    "heap = [50, 10, 30]\n",
    "heapq.heapify(heap)\n",
    "\n",
    "print(heap)\n",
    "\n",
    "min_value = heapq.heappop(heap)\n",
    "print(min_value)\n",
    "print(heap)\n",
    "\n",
    "max_heap = []\n",
    "for item in heap:\n",
    "    heapq.heappush(max_heap, -item)\n",
    "\n",
    "max_value = -heapq.heappop(max_heap)\n",
    "print(max_value)"
   ]
  },
  {
   "cell_type": "markdown",
   "metadata": {},
   "source": [
    "### 투포인터"
   ]
  },
  {
   "cell_type": "code",
   "execution_count": 69,
   "metadata": {},
   "outputs": [
    {
     "name": "stdout",
     "output_type": "stream",
     "text": [
      "2\n"
     ]
    }
   ],
   "source": [
    "# 특정한 합을 가지는 부분 연속 수열 찾기\n",
    "\n",
    "n = 10 # 데이터의 개수\n",
    "m = 5 # 찾고자 하는 부분 합 M\n",
    "data = [x for x in range(n)] # 전체 수열\n",
    "\n",
    "count = 0\n",
    "interval_sum = 0\n",
    "end = 0\n",
    "\n",
    "# start 를 차례대로 증가시키며 반복\n",
    "for start in range(n):\n",
    "    # end 를 가능한 만큼 이동\n",
    "    while interval_sum < m and end < n:\n",
    "        interval_sum += data[end]\n",
    "        end += 1\n",
    "    # 부분합이 m 일 때 카운트 증가\n",
    "    if interval_sum == m:\n",
    "        count += 1\n",
    "    interval_sum -= data[start]\n",
    "\n",
    "print(count)"
   ]
  },
  {
   "cell_type": "markdown",
   "metadata": {},
   "source": [
    "# 유형별 문제 정리"
   ]
  },
  {
   "cell_type": "markdown",
   "metadata": {},
   "source": [
    "티스토리 블로그 참조"
   ]
  }
 ],
 "metadata": {
  "kernelspec": {
   "display_name": "pycaret",
   "language": "python",
   "name": "python3"
  },
  "language_info": {
   "codemirror_mode": {
    "name": "ipython",
    "version": 3
   },
   "file_extension": ".py",
   "mimetype": "text/x-python",
   "name": "python",
   "nbconvert_exporter": "python",
   "pygments_lexer": "ipython3",
   "version": "3.10.4"
  },
  "orig_nbformat": 4
 },
 "nbformat": 4,
 "nbformat_minor": 2
}
